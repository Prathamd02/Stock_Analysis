{
 "cells": [
  {
   "cell_type": "markdown",
   "id": "f3ffe757-4d1b-4e34-becb-fd580e35c44d",
   "metadata": {},
   "source": [
    "## <b>What is Stock? </b>"
   ]
  },
  {
   "cell_type": "markdown",
   "id": "838685ae-f4f6-48d6-a9a4-081905388d6d",
   "metadata": {},
   "source": [
    "A company's stock share is a piece of the company more precisely:\r\n",
    "<p><b>A stock (also known as equity) is a security that represents the ownership of a fraction of a corporation. This\r\n",
    "entitles the owner of the stock to a proportion of the corporation's assets and profits equal to how much stock they own. Units of stock are called \"share\"1]</p></b>\r\n",
    "\r\n",
    "An investor can buy a stock and sell it later. If the stock price increases, the investor profits, If it decreases,the investor with incur a loss.  Determining the stock price is complex; it depends on the number of outstanding shares, the size of the company's future profits, and much more. People trade stocks throughout the day the stock ticker is a report of the price of a certain stock, updated continuously throughout the trading session by the various stock market exchanges. "
   ]
  },
  {
   "cell_type": "markdown",
   "id": "e3862fa2-408e-405f-9695-efce37fd2bb7",
   "metadata": {},
   "source": [
    "Install necessary libraries "
   ]
  },
  {
   "cell_type": "markdown",
   "id": "73bf37ab-402f-40a3-9ab3-a6215df94651",
   "metadata": {},
   "source": [
    "<b>yfinance</b> is a popular open source 'Python library' that provides free access to financial data made available by Yahoo Finance"
   ]
  },
  {
   "cell_type": "code",
   "execution_count": 36,
   "id": "f70e39b2-9cfe-4368-89a3-88f3c8caade8",
   "metadata": {},
   "outputs": [
    {
     "name": "stdout",
     "output_type": "stream",
     "text": [
      "Requirement already satisfied: yfinance==0.2.4 in c:\\users\\prath\\anaconda3\\lib\\site-packages (0.2.4)\n",
      "Requirement already satisfied: pandas>=1.3.0 in c:\\users\\prath\\anaconda3\\lib\\site-packages (from yfinance==0.2.4) (2.1.4)\n",
      "Requirement already satisfied: numpy>=1.16.5 in c:\\users\\prath\\anaconda3\\lib\\site-packages (from yfinance==0.2.4) (1.26.4)\n",
      "Requirement already satisfied: requests>=2.26 in c:\\users\\prath\\anaconda3\\lib\\site-packages (from yfinance==0.2.4) (2.31.0)\n",
      "Requirement already satisfied: multitasking>=0.0.7 in c:\\users\\prath\\anaconda3\\lib\\site-packages (from yfinance==0.2.4) (0.0.11)\n",
      "Requirement already satisfied: lxml>=4.9.1 in c:\\users\\prath\\anaconda3\\lib\\site-packages (from yfinance==0.2.4) (4.9.3)\n",
      "Requirement already satisfied: appdirs>=1.4.4 in c:\\users\\prath\\anaconda3\\lib\\site-packages (from yfinance==0.2.4) (1.4.4)\n",
      "Requirement already satisfied: pytz>=2022.5 in c:\\users\\prath\\anaconda3\\lib\\site-packages (from yfinance==0.2.4) (2023.3.post1)\n",
      "Requirement already satisfied: frozendict>=2.3.4 in c:\\users\\prath\\anaconda3\\lib\\site-packages (from yfinance==0.2.4) (2.4.4)\n",
      "Requirement already satisfied: cryptography>=3.3.2 in c:\\users\\prath\\anaconda3\\lib\\site-packages (from yfinance==0.2.4) (42.0.2)\n",
      "Requirement already satisfied: beautifulsoup4>=4.11.1 in c:\\users\\prath\\anaconda3\\lib\\site-packages (from yfinance==0.2.4) (4.12.2)\n",
      "Requirement already satisfied: html5lib>=1.1 in c:\\users\\prath\\anaconda3\\lib\\site-packages (from yfinance==0.2.4) (1.1)\n",
      "Requirement already satisfied: soupsieve>1.2 in c:\\users\\prath\\anaconda3\\lib\\site-packages (from beautifulsoup4>=4.11.1->yfinance==0.2.4) (2.5)\n",
      "Requirement already satisfied: cffi>=1.12 in c:\\users\\prath\\anaconda3\\lib\\site-packages (from cryptography>=3.3.2->yfinance==0.2.4) (1.16.0)\n",
      "Requirement already satisfied: six>=1.9 in c:\\users\\prath\\anaconda3\\lib\\site-packages (from html5lib>=1.1->yfinance==0.2.4) (1.16.0)\n",
      "Requirement already satisfied: webencodings in c:\\users\\prath\\anaconda3\\lib\\site-packages (from html5lib>=1.1->yfinance==0.2.4) (0.5.1)\n",
      "Requirement already satisfied: python-dateutil>=2.8.2 in c:\\users\\prath\\anaconda3\\lib\\site-packages (from pandas>=1.3.0->yfinance==0.2.4) (2.8.2)\n",
      "Requirement already satisfied: tzdata>=2022.1 in c:\\users\\prath\\anaconda3\\lib\\site-packages (from pandas>=1.3.0->yfinance==0.2.4) (2023.3)\n",
      "Requirement already satisfied: charset-normalizer<4,>=2 in c:\\users\\prath\\anaconda3\\lib\\site-packages (from requests>=2.26->yfinance==0.2.4) (2.0.4)\n",
      "Requirement already satisfied: idna<4,>=2.5 in c:\\users\\prath\\anaconda3\\lib\\site-packages (from requests>=2.26->yfinance==0.2.4) (3.4)\n",
      "Requirement already satisfied: urllib3<3,>=1.21.1 in c:\\users\\prath\\anaconda3\\lib\\site-packages (from requests>=2.26->yfinance==0.2.4) (2.0.7)\n",
      "Requirement already satisfied: certifi>=2017.4.17 in c:\\users\\prath\\anaconda3\\lib\\site-packages (from requests>=2.26->yfinance==0.2.4) (2024.2.2)\n",
      "Requirement already satisfied: pycparser in c:\\users\\prath\\anaconda3\\lib\\site-packages (from cffi>=1.12->cryptography>=3.3.2->yfinance==0.2.4) (2.21)\n"
     ]
    }
   ],
   "source": [
    "!pip install yfinance==0.2.4"
   ]
  },
  {
   "cell_type": "markdown",
   "id": "ec38461b-64dd-4a89-8c41-97320a53be01",
   "metadata": {},
   "source": [
    "import necessary librabries "
   ]
  },
  {
   "cell_type": "code",
   "execution_count": 37,
   "id": "65410e06-eeda-43c1-ab59-364d05f03a1c",
   "metadata": {},
   "outputs": [],
   "source": [
    "import numpy as np\n",
    "import pandas as pd\n",
    "import yfinance as yf\n",
    "import matplotlib.pyplot as plt"
   ]
  },
  {
   "cell_type": "markdown",
   "id": "db56ae8b-64a6-4fc1-b60d-c6c135a9d590",
   "metadata": {},
   "source": [
    "## Using the yfinance Library to Extract Stock Data\r\n"
   ]
  },
  {
   "cell_type": "markdown",
   "id": "e63bdea6-d8a5-4e87-95a9-96281ff76ec6",
   "metadata": {},
   "source": [
    "Using the `Ticker` module we can create an object that will allow us to access functions to extract data. To do this we need to provide the ticker symbol for the stock, here the company is Apple and the ticker symbol is `AAPL`.\n"
   ]
  },
  {
   "cell_type": "code",
   "execution_count": 38,
   "id": "319ad113-78b5-40ff-b826-eb59d8b51612",
   "metadata": {},
   "outputs": [
    {
     "name": "stdout",
     "output_type": "stream",
     "text": [
      "File downloaded successfully.\n"
     ]
    }
   ],
   "source": [
    "import requests\n",
    "\n",
    "url = \"https://cf-courses-data.s3.us.cloud-object-storage.appdomain.cloud/IBMDeveloperSkillsNetwork-PY0220EN-SkillsNetwork/data/apple.json\"\n",
    "response = requests.get(url)\n",
    "\n",
    "# Save the file\n",
    "with open(\"apple.json\", \"wb\") as file:\n",
    "    file.write(response.content)\n",
    "\n",
    "print(\"File downloaded successfully.\")\n"
   ]
  },
  {
   "cell_type": "markdown",
   "id": "a96fb92d-88f4-43ae-9b42-7b630a6d5798",
   "metadata": {},
   "source": [
    "### Stock Info"
   ]
  },
  {
   "cell_type": "markdown",
   "id": "33ba0d9f-e1f8-4dcd-84bf-0517e9097775",
   "metadata": {},
   "source": [
    "We used file handling to open and read the apple.json file, then parsed its contents using Python's json module to convert the JSON data into a Python dictionary for easy access and manipulation."
   ]
  },
  {
   "cell_type": "code",
   "execution_count": 39,
   "id": "c01d02d7-d3b1-4ae0-84ac-8f25e52c9414",
   "metadata": {},
   "outputs": [
    {
     "name": "stdout",
     "output_type": "stream",
     "text": [
      "Type: <class 'dict'>\n"
     ]
    }
   ],
   "source": [
    "import json\n",
    "with open('apple.json') as json_file:\n",
    "    apple_info = json.load(json_file)\n",
    "    # Print the type of data variable    \n",
    "    print(\"Type:\", type(apple_info))"
   ]
  },
  {
   "cell_type": "code",
   "execution_count": 40,
   "id": "26831238-d142-4c00-82fe-e6f3f52e6567",
   "metadata": {},
   "outputs": [
    {
     "data": {
      "text/plain": [
       "{'zip': '95014',\n",
       " 'sector': 'Technology',\n",
       " 'fullTimeEmployees': 100000,\n",
       " 'longBusinessSummary': 'Apple Inc. designs, manufactures, and markets smartphones, personal computers, tablets, wearables, and accessories worldwide. It also sells various related services. In addition, the company offers iPhone, a line of smartphones; Mac, a line of personal computers; iPad, a line of multi-purpose tablets; AirPods Max, an over-ear wireless headphone; and wearables, home, and accessories comprising AirPods, Apple TV, Apple Watch, Beats products, HomePod, and iPod touch. Further, it provides AppleCare support services; cloud services store services; and operates various platforms, including the App Store that allow customers to discover and download applications and digital content, such as books, music, video, games, and podcasts. Additionally, the company offers various services, such as Apple Arcade, a game subscription service; Apple Music, which offers users a curated listening experience with on-demand radio stations; Apple News+, a subscription news and magazine service; Apple TV+, which offers exclusive original content; Apple Card, a co-branded credit card; and Apple Pay, a cashless payment service, as well as licenses its intellectual property. The company serves consumers, and small and mid-sized businesses; and the education, enterprise, and government markets. It distributes third-party applications for its products through the App Store. The company also sells its products through its retail and online stores, and direct sales force; and third-party cellular network carriers, wholesalers, retailers, and resellers. Apple Inc. was incorporated in 1977 and is headquartered in Cupertino, California.',\n",
       " 'city': 'Cupertino',\n",
       " 'phone': '408 996 1010',\n",
       " 'state': 'CA',\n",
       " 'country': 'United States',\n",
       " 'companyOfficers': [],\n",
       " 'website': 'https://www.apple.com',\n",
       " 'maxAge': 1,\n",
       " 'address1': 'One Apple Park Way',\n",
       " 'industry': 'Consumer Electronics',\n",
       " 'ebitdaMargins': 0.33890998,\n",
       " 'profitMargins': 0.26579002,\n",
       " 'grossMargins': 0.43019,\n",
       " 'operatingCashflow': 112241000448,\n",
       " 'revenueGrowth': 0.112,\n",
       " 'operatingMargins': 0.309,\n",
       " 'ebitda': 128217997312,\n",
       " 'targetLowPrice': 160,\n",
       " 'recommendationKey': 'buy',\n",
       " 'grossProfits': 152836000000,\n",
       " 'freeCashflow': 80153247744,\n",
       " 'targetMedianPrice': 199.5,\n",
       " 'currentPrice': 177.77,\n",
       " 'earningsGrowth': 0.25,\n",
       " 'currentRatio': 1.038,\n",
       " 'returnOnAssets': 0.19875,\n",
       " 'numberOfAnalystOpinions': 44,\n",
       " 'targetMeanPrice': 193.53,\n",
       " 'debtToEquity': 170.714,\n",
       " 'returnOnEquity': 1.45567,\n",
       " 'targetHighPrice': 215,\n",
       " 'totalCash': 63913000960,\n",
       " 'totalDebt': 122797998080,\n",
       " 'totalRevenue': 378323009536,\n",
       " 'totalCashPerShare': 3.916,\n",
       " 'financialCurrency': 'USD',\n",
       " 'revenuePerShare': 22.838,\n",
       " 'quickRatio': 0.875,\n",
       " 'recommendationMean': 1.8,\n",
       " 'exchange': 'NMS',\n",
       " 'shortName': 'Apple Inc.',\n",
       " 'longName': 'Apple Inc.',\n",
       " 'exchangeTimezoneName': 'America/New_York',\n",
       " 'exchangeTimezoneShortName': 'EDT',\n",
       " 'isEsgPopulated': False,\n",
       " 'gmtOffSetMilliseconds': '-14400000',\n",
       " 'quoteType': 'EQUITY',\n",
       " 'symbol': 'AAPL',\n",
       " 'messageBoardId': 'finmb_24937',\n",
       " 'market': 'us_market',\n",
       " 'annualHoldingsTurnover': None,\n",
       " 'enterpriseToRevenue': 7.824,\n",
       " 'beta3Year': None,\n",
       " 'enterpriseToEbitda': 23.086,\n",
       " '52WeekChange': 0.4549594,\n",
       " 'morningStarRiskRating': None,\n",
       " 'forwardEps': 6.56,\n",
       " 'revenueQuarterlyGrowth': None,\n",
       " 'sharesOutstanding': 16319399936,\n",
       " 'fundInceptionDate': None,\n",
       " 'annualReportExpenseRatio': None,\n",
       " 'totalAssets': None,\n",
       " 'bookValue': 4.402,\n",
       " 'sharesShort': 111286790,\n",
       " 'sharesPercentSharesOut': 0.0068,\n",
       " 'fundFamily': None,\n",
       " 'lastFiscalYearEnd': 1632528000,\n",
       " 'heldPercentInstitutions': 0.59397,\n",
       " 'netIncomeToCommon': 100554997760,\n",
       " 'trailingEps': 6.015,\n",
       " 'lastDividendValue': 0.22,\n",
       " 'SandP52WeekChange': 0.15217662,\n",
       " 'priceToBook': 40.38392,\n",
       " 'heldPercentInsiders': 0.0007,\n",
       " 'nextFiscalYearEnd': 1695600000,\n",
       " 'yield': None,\n",
       " 'mostRecentQuarter': 1640390400,\n",
       " 'shortRatio': 1.21,\n",
       " 'sharesShortPreviousMonthDate': 1644883200,\n",
       " 'floatShares': 16302795170,\n",
       " 'beta': 1.185531,\n",
       " 'enterpriseValue': 2959991898112,\n",
       " 'priceHint': 2,\n",
       " 'threeYearAverageReturn': None,\n",
       " 'lastSplitDate': 1598832000,\n",
       " 'lastSplitFactor': '4:1',\n",
       " 'legalType': None,\n",
       " 'lastDividendDate': 1643932800,\n",
       " 'morningStarOverallRating': None,\n",
       " 'earningsQuarterlyGrowth': 0.204,\n",
       " 'priceToSalesTrailing12Months': 7.668314,\n",
       " 'dateShortInterest': 1647302400,\n",
       " 'pegRatio': 1.94,\n",
       " 'ytdReturn': None,\n",
       " 'forwardPE': 27.099087,\n",
       " 'lastCapGain': None,\n",
       " 'shortPercentOfFloat': 0.0068,\n",
       " 'sharesShortPriorMonth': 108944701,\n",
       " 'impliedSharesOutstanding': 0,\n",
       " 'category': None,\n",
       " 'fiveYearAverageReturn': None,\n",
       " 'previousClose': 178.96,\n",
       " 'regularMarketOpen': 178.55,\n",
       " 'twoHundredDayAverage': 156.03505,\n",
       " 'trailingAnnualDividendYield': 0.004833482,\n",
       " 'payoutRatio': 0.1434,\n",
       " 'volume24Hr': None,\n",
       " 'regularMarketDayHigh': 179.61,\n",
       " 'navPrice': None,\n",
       " 'averageDailyVolume10Day': 93823630,\n",
       " 'regularMarketPreviousClose': 178.96,\n",
       " 'fiftyDayAverage': 166.498,\n",
       " 'trailingAnnualDividendRate': 0.865,\n",
       " 'open': 178.55,\n",
       " 'toCurrency': None,\n",
       " 'averageVolume10days': 93823630,\n",
       " 'expireDate': None,\n",
       " 'algorithm': None,\n",
       " 'dividendRate': 0.88,\n",
       " 'exDividendDate': 1643932800,\n",
       " 'circulatingSupply': None,\n",
       " 'startDate': None,\n",
       " 'regularMarketDayLow': 176.7,\n",
       " 'currency': 'USD',\n",
       " 'trailingPE': 29.55445,\n",
       " 'regularMarketVolume': 92633154,\n",
       " 'lastMarket': None,\n",
       " 'maxSupply': None,\n",
       " 'openInterest': None,\n",
       " 'marketCap': 2901099675648,\n",
       " 'volumeAllCurrencies': None,\n",
       " 'strikePrice': None,\n",
       " 'averageVolume': 95342043,\n",
       " 'dayLow': 176.7,\n",
       " 'ask': 178.53,\n",
       " 'askSize': 800,\n",
       " 'volume': 92633154,\n",
       " 'fiftyTwoWeekHigh': 182.94,\n",
       " 'fromCurrency': None,\n",
       " 'fiveYearAvgDividendYield': 1.13,\n",
       " 'fiftyTwoWeekLow': 122.25,\n",
       " 'bid': 178.4,\n",
       " 'tradeable': False,\n",
       " 'dividendYield': 0.005,\n",
       " 'bidSize': 3200,\n",
       " 'dayHigh': 179.61,\n",
       " 'regularMarketPrice': 177.77,\n",
       " 'preMarketPrice': 178.38,\n",
       " 'logo_url': 'https://logo.clearbit.com/apple.com'}"
      ]
     },
     "execution_count": 40,
     "metadata": {},
     "output_type": "execute_result"
    }
   ],
   "source": [
    "apple_info"
   ]
  },
  {
   "cell_type": "markdown",
   "id": "6c9e8384-9c3f-49aa-9011-fa2910170a23",
   "metadata": {},
   "source": [
    "We can get the <code>'country'</code> using the key countr\n",
    "|"
   ]
  },
  {
   "cell_type": "code",
   "execution_count": 41,
   "id": "4820aa15-7240-4d96-84ee-92fd2ef4d973",
   "metadata": {},
   "outputs": [
    {
     "data": {
      "text/plain": [
       "'United States'"
      ]
     },
     "execution_count": 41,
     "metadata": {},
     "output_type": "execute_result"
    }
   ],
   "source": [
    "apple_info['country']"
   ]
  },
  {
   "cell_type": "markdown",
   "id": "fae65294-57d4-42f3-87c3-eb8e4b1b6234",
   "metadata": {},
   "source": [
    "We can get the <code>'sector'</code> using the key sector"
   ]
  },
  {
   "cell_type": "code",
   "execution_count": 42,
   "id": "6f2bb3a9-f37b-4a1a-8204-2139d33b85ad",
   "metadata": {},
   "outputs": [
    {
     "data": {
      "text/plain": [
       "'Technology'"
      ]
     },
     "execution_count": 42,
     "metadata": {},
     "output_type": "execute_result"
    }
   ],
   "source": [
    "apple_info['sector']"
   ]
  },
  {
   "cell_type": "markdown",
   "id": "28a93e18-146c-48ca-8cbf-e815255169a6",
   "metadata": {},
   "source": [
    "We can get the <code>'industry'</code> using the key industry"
   ]
  },
  {
   "cell_type": "code",
   "execution_count": 43,
   "id": "fefeff27-4454-49fe-8fd2-4984c5456296",
   "metadata": {},
   "outputs": [
    {
     "data": {
      "text/plain": [
       "'Consumer Electronics'"
      ]
     },
     "execution_count": 43,
     "metadata": {},
     "output_type": "execute_result"
    }
   ],
   "source": [
    "apple_info['industry']"
   ]
  },
  {
   "cell_type": "markdown",
   "id": "84442aff-14f5-46af-8a9b-0fd7cfa7e411",
   "metadata": {},
   "source": [
    "We can get the <code>'Full Time Employees'</code> using the key fullTimeEmployees\n"
   ]
  },
  {
   "cell_type": "code",
   "execution_count": 44,
   "id": "245c1033-1104-4f2a-af20-8268ad055428",
   "metadata": {},
   "outputs": [
    {
     "data": {
      "text/plain": [
       "100000"
      ]
     },
     "execution_count": 44,
     "metadata": {},
     "output_type": "execute_result"
    }
   ],
   "source": [
    "apple_info['fullTimeEmployees']"
   ]
  },
  {
   "cell_type": "markdown",
   "id": "20320fb1-fa05-4bfe-8909-ee5aed9402e6",
   "metadata": {},
   "source": [
    "Use <b>.keys()</b> to get a dictionary of available keys for additional company information"
   ]
  },
  {
   "cell_type": "code",
   "execution_count": 45,
   "id": "8a3af292-e6a8-4a9d-9074-d32e7a4a9f76",
   "metadata": {},
   "outputs": [
    {
     "data": {
      "text/plain": [
       "dict_keys(['zip', 'sector', 'fullTimeEmployees', 'longBusinessSummary', 'city', 'phone', 'state', 'country', 'companyOfficers', 'website', 'maxAge', 'address1', 'industry', 'ebitdaMargins', 'profitMargins', 'grossMargins', 'operatingCashflow', 'revenueGrowth', 'operatingMargins', 'ebitda', 'targetLowPrice', 'recommendationKey', 'grossProfits', 'freeCashflow', 'targetMedianPrice', 'currentPrice', 'earningsGrowth', 'currentRatio', 'returnOnAssets', 'numberOfAnalystOpinions', 'targetMeanPrice', 'debtToEquity', 'returnOnEquity', 'targetHighPrice', 'totalCash', 'totalDebt', 'totalRevenue', 'totalCashPerShare', 'financialCurrency', 'revenuePerShare', 'quickRatio', 'recommendationMean', 'exchange', 'shortName', 'longName', 'exchangeTimezoneName', 'exchangeTimezoneShortName', 'isEsgPopulated', 'gmtOffSetMilliseconds', 'quoteType', 'symbol', 'messageBoardId', 'market', 'annualHoldingsTurnover', 'enterpriseToRevenue', 'beta3Year', 'enterpriseToEbitda', '52WeekChange', 'morningStarRiskRating', 'forwardEps', 'revenueQuarterlyGrowth', 'sharesOutstanding', 'fundInceptionDate', 'annualReportExpenseRatio', 'totalAssets', 'bookValue', 'sharesShort', 'sharesPercentSharesOut', 'fundFamily', 'lastFiscalYearEnd', 'heldPercentInstitutions', 'netIncomeToCommon', 'trailingEps', 'lastDividendValue', 'SandP52WeekChange', 'priceToBook', 'heldPercentInsiders', 'nextFiscalYearEnd', 'yield', 'mostRecentQuarter', 'shortRatio', 'sharesShortPreviousMonthDate', 'floatShares', 'beta', 'enterpriseValue', 'priceHint', 'threeYearAverageReturn', 'lastSplitDate', 'lastSplitFactor', 'legalType', 'lastDividendDate', 'morningStarOverallRating', 'earningsQuarterlyGrowth', 'priceToSalesTrailing12Months', 'dateShortInterest', 'pegRatio', 'ytdReturn', 'forwardPE', 'lastCapGain', 'shortPercentOfFloat', 'sharesShortPriorMonth', 'impliedSharesOutstanding', 'category', 'fiveYearAverageReturn', 'previousClose', 'regularMarketOpen', 'twoHundredDayAverage', 'trailingAnnualDividendYield', 'payoutRatio', 'volume24Hr', 'regularMarketDayHigh', 'navPrice', 'averageDailyVolume10Day', 'regularMarketPreviousClose', 'fiftyDayAverage', 'trailingAnnualDividendRate', 'open', 'toCurrency', 'averageVolume10days', 'expireDate', 'algorithm', 'dividendRate', 'exDividendDate', 'circulatingSupply', 'startDate', 'regularMarketDayLow', 'currency', 'trailingPE', 'regularMarketVolume', 'lastMarket', 'maxSupply', 'openInterest', 'marketCap', 'volumeAllCurrencies', 'strikePrice', 'averageVolume', 'dayLow', 'ask', 'askSize', 'volume', 'fiftyTwoWeekHigh', 'fromCurrency', 'fiveYearAvgDividendYield', 'fiftyTwoWeekLow', 'bid', 'tradeable', 'dividendYield', 'bidSize', 'dayHigh', 'regularMarketPrice', 'preMarketPrice', 'logo_url'])"
      ]
     },
     "execution_count": 45,
     "metadata": {},
     "output_type": "execute_result"
    }
   ],
   "source": [
    "apple_info.keys()"
   ]
  },
  {
   "cell_type": "code",
   "execution_count": 46,
   "id": "8e6448a0-97a4-4cb1-a71d-e44689dea755",
   "metadata": {},
   "outputs": [
    {
     "data": {
      "text/plain": [
       "yfinance.Ticker object <AAPL>"
      ]
     },
     "execution_count": 46,
     "metadata": {},
     "output_type": "execute_result"
    }
   ],
   "source": [
    "apple = yf.Ticker(\"AAPL\")\n",
    "apple"
   ]
  },
  {
   "cell_type": "markdown",
   "id": "498ed837-e401-436e-814b-bc9e07c2513d",
   "metadata": {},
   "source": [
    "## Extracting Share Price\r\n"
   ]
  },
  {
   "cell_type": "markdown",
   "id": "9a5f0a93-b33d-4dbf-9b99-7cc08e59db6e",
   "metadata": {},
   "source": [
    "A share is the single smallest part of a company's stock  that you can buy, the prices of these shares fluctuate over time. Using the <code>history()</code> method we can get the share price of the stock over a certain period of time. Using the `period` parameter we can set how far back from the present to get data. The options for `period` are 1 day (1d), 5d, 1 month (1mo) , 3mo, 6mo, 1 year (1y), 2y, 5y, 10y, ytd, and max.\n"
   ]
  },
  {
   "cell_type": "code",
   "execution_count": 47,
   "id": "df53751b-56cb-4f7d-bf4f-71c3d65d3dda",
   "metadata": {},
   "outputs": [
    {
     "data": {
      "text/html": [
       "<div>\n",
       "<style scoped>\n",
       "    .dataframe tbody tr th:only-of-type {\n",
       "        vertical-align: middle;\n",
       "    }\n",
       "\n",
       "    .dataframe tbody tr th {\n",
       "        vertical-align: top;\n",
       "    }\n",
       "\n",
       "    .dataframe thead th {\n",
       "        text-align: right;\n",
       "    }\n",
       "</style>\n",
       "<table border=\"1\" class=\"dataframe\">\n",
       "  <thead>\n",
       "    <tr style=\"text-align: right;\">\n",
       "      <th></th>\n",
       "      <th>Open</th>\n",
       "      <th>High</th>\n",
       "      <th>Low</th>\n",
       "      <th>Close</th>\n",
       "      <th>Volume</th>\n",
       "      <th>Dividends</th>\n",
       "      <th>Stock Splits</th>\n",
       "    </tr>\n",
       "    <tr>\n",
       "      <th>Date</th>\n",
       "      <th></th>\n",
       "      <th></th>\n",
       "      <th></th>\n",
       "      <th></th>\n",
       "      <th></th>\n",
       "      <th></th>\n",
       "      <th></th>\n",
       "    </tr>\n",
       "  </thead>\n",
       "  <tbody>\n",
       "    <tr>\n",
       "      <th>2024-06-13 00:00:00-04:00</th>\n",
       "      <td>214.740005</td>\n",
       "      <td>216.750000</td>\n",
       "      <td>211.600006</td>\n",
       "      <td>214.240005</td>\n",
       "      <td>97862700</td>\n",
       "      <td>0.0</td>\n",
       "      <td>0.0</td>\n",
       "    </tr>\n",
       "    <tr>\n",
       "      <th>2024-06-14 00:00:00-04:00</th>\n",
       "      <td>213.850006</td>\n",
       "      <td>215.169998</td>\n",
       "      <td>211.300003</td>\n",
       "      <td>212.490005</td>\n",
       "      <td>70122700</td>\n",
       "      <td>0.0</td>\n",
       "      <td>0.0</td>\n",
       "    </tr>\n",
       "    <tr>\n",
       "      <th>2024-06-17 00:00:00-04:00</th>\n",
       "      <td>213.369995</td>\n",
       "      <td>218.949997</td>\n",
       "      <td>212.720001</td>\n",
       "      <td>216.669998</td>\n",
       "      <td>93728300</td>\n",
       "      <td>0.0</td>\n",
       "      <td>0.0</td>\n",
       "    </tr>\n",
       "    <tr>\n",
       "      <th>2024-06-18 00:00:00-04:00</th>\n",
       "      <td>217.589996</td>\n",
       "      <td>218.630005</td>\n",
       "      <td>213.000000</td>\n",
       "      <td>214.289993</td>\n",
       "      <td>79943300</td>\n",
       "      <td>0.0</td>\n",
       "      <td>0.0</td>\n",
       "    </tr>\n",
       "    <tr>\n",
       "      <th>2024-06-20 00:00:00-04:00</th>\n",
       "      <td>213.929993</td>\n",
       "      <td>214.240005</td>\n",
       "      <td>208.850006</td>\n",
       "      <td>209.679993</td>\n",
       "      <td>86172500</td>\n",
       "      <td>0.0</td>\n",
       "      <td>0.0</td>\n",
       "    </tr>\n",
       "    <tr>\n",
       "      <th>2024-06-21 00:00:00-04:00</th>\n",
       "      <td>210.389999</td>\n",
       "      <td>211.889999</td>\n",
       "      <td>207.110001</td>\n",
       "      <td>207.490005</td>\n",
       "      <td>246421400</td>\n",
       "      <td>0.0</td>\n",
       "      <td>0.0</td>\n",
       "    </tr>\n",
       "    <tr>\n",
       "      <th>2024-06-24 00:00:00-04:00</th>\n",
       "      <td>207.720001</td>\n",
       "      <td>212.699997</td>\n",
       "      <td>206.589996</td>\n",
       "      <td>208.139999</td>\n",
       "      <td>80727000</td>\n",
       "      <td>0.0</td>\n",
       "      <td>0.0</td>\n",
       "    </tr>\n",
       "    <tr>\n",
       "      <th>2024-06-25 00:00:00-04:00</th>\n",
       "      <td>209.149994</td>\n",
       "      <td>211.380005</td>\n",
       "      <td>208.610001</td>\n",
       "      <td>209.070007</td>\n",
       "      <td>56713900</td>\n",
       "      <td>0.0</td>\n",
       "      <td>0.0</td>\n",
       "    </tr>\n",
       "    <tr>\n",
       "      <th>2024-06-26 00:00:00-04:00</th>\n",
       "      <td>211.500000</td>\n",
       "      <td>214.860001</td>\n",
       "      <td>210.639999</td>\n",
       "      <td>213.250000</td>\n",
       "      <td>66213200</td>\n",
       "      <td>0.0</td>\n",
       "      <td>0.0</td>\n",
       "    </tr>\n",
       "    <tr>\n",
       "      <th>2024-06-27 00:00:00-04:00</th>\n",
       "      <td>214.690002</td>\n",
       "      <td>215.740005</td>\n",
       "      <td>212.350006</td>\n",
       "      <td>214.100006</td>\n",
       "      <td>49772700</td>\n",
       "      <td>0.0</td>\n",
       "      <td>0.0</td>\n",
       "    </tr>\n",
       "    <tr>\n",
       "      <th>2024-06-28 00:00:00-04:00</th>\n",
       "      <td>215.770004</td>\n",
       "      <td>216.070007</td>\n",
       "      <td>210.300003</td>\n",
       "      <td>210.619995</td>\n",
       "      <td>82542700</td>\n",
       "      <td>0.0</td>\n",
       "      <td>0.0</td>\n",
       "    </tr>\n",
       "    <tr>\n",
       "      <th>2024-07-01 00:00:00-04:00</th>\n",
       "      <td>212.089996</td>\n",
       "      <td>217.509995</td>\n",
       "      <td>211.919998</td>\n",
       "      <td>216.750000</td>\n",
       "      <td>60402900</td>\n",
       "      <td>0.0</td>\n",
       "      <td>0.0</td>\n",
       "    </tr>\n",
       "    <tr>\n",
       "      <th>2024-07-02 00:00:00-04:00</th>\n",
       "      <td>216.149994</td>\n",
       "      <td>220.380005</td>\n",
       "      <td>215.100006</td>\n",
       "      <td>220.270004</td>\n",
       "      <td>58046200</td>\n",
       "      <td>0.0</td>\n",
       "      <td>0.0</td>\n",
       "    </tr>\n",
       "    <tr>\n",
       "      <th>2024-07-03 00:00:00-04:00</th>\n",
       "      <td>220.000000</td>\n",
       "      <td>221.550003</td>\n",
       "      <td>219.029999</td>\n",
       "      <td>221.550003</td>\n",
       "      <td>37369800</td>\n",
       "      <td>0.0</td>\n",
       "      <td>0.0</td>\n",
       "    </tr>\n",
       "    <tr>\n",
       "      <th>2024-07-05 00:00:00-04:00</th>\n",
       "      <td>221.649994</td>\n",
       "      <td>226.449997</td>\n",
       "      <td>221.649994</td>\n",
       "      <td>226.339996</td>\n",
       "      <td>60412400</td>\n",
       "      <td>0.0</td>\n",
       "      <td>0.0</td>\n",
       "    </tr>\n",
       "    <tr>\n",
       "      <th>2024-07-08 00:00:00-04:00</th>\n",
       "      <td>227.089996</td>\n",
       "      <td>227.850006</td>\n",
       "      <td>223.250000</td>\n",
       "      <td>227.820007</td>\n",
       "      <td>59085900</td>\n",
       "      <td>0.0</td>\n",
       "      <td>0.0</td>\n",
       "    </tr>\n",
       "    <tr>\n",
       "      <th>2024-07-09 00:00:00-04:00</th>\n",
       "      <td>227.929993</td>\n",
       "      <td>229.399994</td>\n",
       "      <td>226.369995</td>\n",
       "      <td>228.679993</td>\n",
       "      <td>48076100</td>\n",
       "      <td>0.0</td>\n",
       "      <td>0.0</td>\n",
       "    </tr>\n",
       "    <tr>\n",
       "      <th>2024-07-10 00:00:00-04:00</th>\n",
       "      <td>229.300003</td>\n",
       "      <td>233.080002</td>\n",
       "      <td>229.250000</td>\n",
       "      <td>232.979996</td>\n",
       "      <td>62627700</td>\n",
       "      <td>0.0</td>\n",
       "      <td>0.0</td>\n",
       "    </tr>\n",
       "    <tr>\n",
       "      <th>2024-07-11 00:00:00-04:00</th>\n",
       "      <td>231.389999</td>\n",
       "      <td>232.389999</td>\n",
       "      <td>225.770004</td>\n",
       "      <td>227.570007</td>\n",
       "      <td>64710600</td>\n",
       "      <td>0.0</td>\n",
       "      <td>0.0</td>\n",
       "    </tr>\n",
       "    <tr>\n",
       "      <th>2024-07-12 00:00:00-04:00</th>\n",
       "      <td>228.919998</td>\n",
       "      <td>232.639999</td>\n",
       "      <td>228.679993</td>\n",
       "      <td>230.539993</td>\n",
       "      <td>53008200</td>\n",
       "      <td>0.0</td>\n",
       "      <td>0.0</td>\n",
       "    </tr>\n",
       "  </tbody>\n",
       "</table>\n",
       "</div>"
      ],
      "text/plain": [
       "                                 Open        High         Low       Close  \\\n",
       "Date                                                                        \n",
       "2024-06-13 00:00:00-04:00  214.740005  216.750000  211.600006  214.240005   \n",
       "2024-06-14 00:00:00-04:00  213.850006  215.169998  211.300003  212.490005   \n",
       "2024-06-17 00:00:00-04:00  213.369995  218.949997  212.720001  216.669998   \n",
       "2024-06-18 00:00:00-04:00  217.589996  218.630005  213.000000  214.289993   \n",
       "2024-06-20 00:00:00-04:00  213.929993  214.240005  208.850006  209.679993   \n",
       "2024-06-21 00:00:00-04:00  210.389999  211.889999  207.110001  207.490005   \n",
       "2024-06-24 00:00:00-04:00  207.720001  212.699997  206.589996  208.139999   \n",
       "2024-06-25 00:00:00-04:00  209.149994  211.380005  208.610001  209.070007   \n",
       "2024-06-26 00:00:00-04:00  211.500000  214.860001  210.639999  213.250000   \n",
       "2024-06-27 00:00:00-04:00  214.690002  215.740005  212.350006  214.100006   \n",
       "2024-06-28 00:00:00-04:00  215.770004  216.070007  210.300003  210.619995   \n",
       "2024-07-01 00:00:00-04:00  212.089996  217.509995  211.919998  216.750000   \n",
       "2024-07-02 00:00:00-04:00  216.149994  220.380005  215.100006  220.270004   \n",
       "2024-07-03 00:00:00-04:00  220.000000  221.550003  219.029999  221.550003   \n",
       "2024-07-05 00:00:00-04:00  221.649994  226.449997  221.649994  226.339996   \n",
       "2024-07-08 00:00:00-04:00  227.089996  227.850006  223.250000  227.820007   \n",
       "2024-07-09 00:00:00-04:00  227.929993  229.399994  226.369995  228.679993   \n",
       "2024-07-10 00:00:00-04:00  229.300003  233.080002  229.250000  232.979996   \n",
       "2024-07-11 00:00:00-04:00  231.389999  232.389999  225.770004  227.570007   \n",
       "2024-07-12 00:00:00-04:00  228.919998  232.639999  228.679993  230.539993   \n",
       "\n",
       "                              Volume  Dividends  Stock Splits  \n",
       "Date                                                           \n",
       "2024-06-13 00:00:00-04:00   97862700        0.0           0.0  \n",
       "2024-06-14 00:00:00-04:00   70122700        0.0           0.0  \n",
       "2024-06-17 00:00:00-04:00   93728300        0.0           0.0  \n",
       "2024-06-18 00:00:00-04:00   79943300        0.0           0.0  \n",
       "2024-06-20 00:00:00-04:00   86172500        0.0           0.0  \n",
       "2024-06-21 00:00:00-04:00  246421400        0.0           0.0  \n",
       "2024-06-24 00:00:00-04:00   80727000        0.0           0.0  \n",
       "2024-06-25 00:00:00-04:00   56713900        0.0           0.0  \n",
       "2024-06-26 00:00:00-04:00   66213200        0.0           0.0  \n",
       "2024-06-27 00:00:00-04:00   49772700        0.0           0.0  \n",
       "2024-06-28 00:00:00-04:00   82542700        0.0           0.0  \n",
       "2024-07-01 00:00:00-04:00   60402900        0.0           0.0  \n",
       "2024-07-02 00:00:00-04:00   58046200        0.0           0.0  \n",
       "2024-07-03 00:00:00-04:00   37369800        0.0           0.0  \n",
       "2024-07-05 00:00:00-04:00   60412400        0.0           0.0  \n",
       "2024-07-08 00:00:00-04:00   59085900        0.0           0.0  \n",
       "2024-07-09 00:00:00-04:00   48076100        0.0           0.0  \n",
       "2024-07-10 00:00:00-04:00   62627700        0.0           0.0  \n",
       "2024-07-11 00:00:00-04:00   64710600        0.0           0.0  \n",
       "2024-07-12 00:00:00-04:00   53008200        0.0           0.0  "
      ]
     },
     "execution_count": 47,
     "metadata": {},
     "output_type": "execute_result"
    }
   ],
   "source": [
    "apple_data = apple.history()\n",
    "apple_data"
   ]
  },
  {
   "cell_type": "markdown",
   "id": "aa854687-7918-4af3-b1c9-4c86cafe3ce9",
   "metadata": {},
   "source": [
    "The format that the data is returned in is a Pandas DataFrame. With the <b>`Date`</b> as the index the share `Open`, `High`, `Low`, `Close`, `Volume`, and `Stock Splits` are given for each day.\r\n"
   ]
  },
  {
   "cell_type": "code",
   "execution_count": 48,
   "id": "58c9b707-dfe7-4799-a39d-75f98d48c24e",
   "metadata": {},
   "outputs": [
    {
     "data": {
      "text/html": [
       "<div>\n",
       "<style scoped>\n",
       "    .dataframe tbody tr th:only-of-type {\n",
       "        vertical-align: middle;\n",
       "    }\n",
       "\n",
       "    .dataframe tbody tr th {\n",
       "        vertical-align: top;\n",
       "    }\n",
       "\n",
       "    .dataframe thead th {\n",
       "        text-align: right;\n",
       "    }\n",
       "</style>\n",
       "<table border=\"1\" class=\"dataframe\">\n",
       "  <thead>\n",
       "    <tr style=\"text-align: right;\">\n",
       "      <th></th>\n",
       "      <th>Open</th>\n",
       "      <th>High</th>\n",
       "      <th>Low</th>\n",
       "      <th>Close</th>\n",
       "      <th>Volume</th>\n",
       "      <th>Dividends</th>\n",
       "      <th>Stock Splits</th>\n",
       "    </tr>\n",
       "    <tr>\n",
       "      <th>Date</th>\n",
       "      <th></th>\n",
       "      <th></th>\n",
       "      <th></th>\n",
       "      <th></th>\n",
       "      <th></th>\n",
       "      <th></th>\n",
       "      <th></th>\n",
       "    </tr>\n",
       "  </thead>\n",
       "  <tbody>\n",
       "    <tr>\n",
       "      <th>2024-06-13 00:00:00-04:00</th>\n",
       "      <td>214.740005</td>\n",
       "      <td>216.750000</td>\n",
       "      <td>211.600006</td>\n",
       "      <td>214.240005</td>\n",
       "      <td>97862700</td>\n",
       "      <td>0.0</td>\n",
       "      <td>0.0</td>\n",
       "    </tr>\n",
       "    <tr>\n",
       "      <th>2024-06-14 00:00:00-04:00</th>\n",
       "      <td>213.850006</td>\n",
       "      <td>215.169998</td>\n",
       "      <td>211.300003</td>\n",
       "      <td>212.490005</td>\n",
       "      <td>70122700</td>\n",
       "      <td>0.0</td>\n",
       "      <td>0.0</td>\n",
       "    </tr>\n",
       "    <tr>\n",
       "      <th>2024-06-17 00:00:00-04:00</th>\n",
       "      <td>213.369995</td>\n",
       "      <td>218.949997</td>\n",
       "      <td>212.720001</td>\n",
       "      <td>216.669998</td>\n",
       "      <td>93728300</td>\n",
       "      <td>0.0</td>\n",
       "      <td>0.0</td>\n",
       "    </tr>\n",
       "    <tr>\n",
       "      <th>2024-06-18 00:00:00-04:00</th>\n",
       "      <td>217.589996</td>\n",
       "      <td>218.630005</td>\n",
       "      <td>213.000000</td>\n",
       "      <td>214.289993</td>\n",
       "      <td>79943300</td>\n",
       "      <td>0.0</td>\n",
       "      <td>0.0</td>\n",
       "    </tr>\n",
       "    <tr>\n",
       "      <th>2024-06-20 00:00:00-04:00</th>\n",
       "      <td>213.929993</td>\n",
       "      <td>214.240005</td>\n",
       "      <td>208.850006</td>\n",
       "      <td>209.679993</td>\n",
       "      <td>86172500</td>\n",
       "      <td>0.0</td>\n",
       "      <td>0.0</td>\n",
       "    </tr>\n",
       "  </tbody>\n",
       "</table>\n",
       "</div>"
      ],
      "text/plain": [
       "                                 Open        High         Low       Close  \\\n",
       "Date                                                                        \n",
       "2024-06-13 00:00:00-04:00  214.740005  216.750000  211.600006  214.240005   \n",
       "2024-06-14 00:00:00-04:00  213.850006  215.169998  211.300003  212.490005   \n",
       "2024-06-17 00:00:00-04:00  213.369995  218.949997  212.720001  216.669998   \n",
       "2024-06-18 00:00:00-04:00  217.589996  218.630005  213.000000  214.289993   \n",
       "2024-06-20 00:00:00-04:00  213.929993  214.240005  208.850006  209.679993   \n",
       "\n",
       "                             Volume  Dividends  Stock Splits  \n",
       "Date                                                          \n",
       "2024-06-13 00:00:00-04:00  97862700        0.0           0.0  \n",
       "2024-06-14 00:00:00-04:00  70122700        0.0           0.0  \n",
       "2024-06-17 00:00:00-04:00  93728300        0.0           0.0  \n",
       "2024-06-18 00:00:00-04:00  79943300        0.0           0.0  \n",
       "2024-06-20 00:00:00-04:00  86172500        0.0           0.0  "
      ]
     },
     "execution_count": 48,
     "metadata": {},
     "output_type": "execute_result"
    }
   ],
   "source": [
    "apple_data.head()"
   ]
  },
  {
   "cell_type": "code",
   "execution_count": 49,
   "id": "6e8947b0-502e-43cd-af3e-7dbd9d1aa326",
   "metadata": {},
   "outputs": [
    {
     "data": {
      "text/html": [
       "<div>\n",
       "<style scoped>\n",
       "    .dataframe tbody tr th:only-of-type {\n",
       "        vertical-align: middle;\n",
       "    }\n",
       "\n",
       "    .dataframe tbody tr th {\n",
       "        vertical-align: top;\n",
       "    }\n",
       "\n",
       "    .dataframe thead th {\n",
       "        text-align: right;\n",
       "    }\n",
       "</style>\n",
       "<table border=\"1\" class=\"dataframe\">\n",
       "  <thead>\n",
       "    <tr style=\"text-align: right;\">\n",
       "      <th></th>\n",
       "      <th>Open</th>\n",
       "      <th>High</th>\n",
       "      <th>Low</th>\n",
       "      <th>Close</th>\n",
       "      <th>Volume</th>\n",
       "      <th>Dividends</th>\n",
       "      <th>Stock Splits</th>\n",
       "    </tr>\n",
       "    <tr>\n",
       "      <th>Date</th>\n",
       "      <th></th>\n",
       "      <th></th>\n",
       "      <th></th>\n",
       "      <th></th>\n",
       "      <th></th>\n",
       "      <th></th>\n",
       "      <th></th>\n",
       "    </tr>\n",
       "  </thead>\n",
       "  <tbody>\n",
       "    <tr>\n",
       "      <th>2024-07-08 00:00:00-04:00</th>\n",
       "      <td>227.089996</td>\n",
       "      <td>227.850006</td>\n",
       "      <td>223.250000</td>\n",
       "      <td>227.820007</td>\n",
       "      <td>59085900</td>\n",
       "      <td>0.0</td>\n",
       "      <td>0.0</td>\n",
       "    </tr>\n",
       "    <tr>\n",
       "      <th>2024-07-09 00:00:00-04:00</th>\n",
       "      <td>227.929993</td>\n",
       "      <td>229.399994</td>\n",
       "      <td>226.369995</td>\n",
       "      <td>228.679993</td>\n",
       "      <td>48076100</td>\n",
       "      <td>0.0</td>\n",
       "      <td>0.0</td>\n",
       "    </tr>\n",
       "    <tr>\n",
       "      <th>2024-07-10 00:00:00-04:00</th>\n",
       "      <td>229.300003</td>\n",
       "      <td>233.080002</td>\n",
       "      <td>229.250000</td>\n",
       "      <td>232.979996</td>\n",
       "      <td>62627700</td>\n",
       "      <td>0.0</td>\n",
       "      <td>0.0</td>\n",
       "    </tr>\n",
       "    <tr>\n",
       "      <th>2024-07-11 00:00:00-04:00</th>\n",
       "      <td>231.389999</td>\n",
       "      <td>232.389999</td>\n",
       "      <td>225.770004</td>\n",
       "      <td>227.570007</td>\n",
       "      <td>64710600</td>\n",
       "      <td>0.0</td>\n",
       "      <td>0.0</td>\n",
       "    </tr>\n",
       "    <tr>\n",
       "      <th>2024-07-12 00:00:00-04:00</th>\n",
       "      <td>228.919998</td>\n",
       "      <td>232.639999</td>\n",
       "      <td>228.679993</td>\n",
       "      <td>230.539993</td>\n",
       "      <td>53008200</td>\n",
       "      <td>0.0</td>\n",
       "      <td>0.0</td>\n",
       "    </tr>\n",
       "  </tbody>\n",
       "</table>\n",
       "</div>"
      ],
      "text/plain": [
       "                                 Open        High         Low       Close  \\\n",
       "Date                                                                        \n",
       "2024-07-08 00:00:00-04:00  227.089996  227.850006  223.250000  227.820007   \n",
       "2024-07-09 00:00:00-04:00  227.929993  229.399994  226.369995  228.679993   \n",
       "2024-07-10 00:00:00-04:00  229.300003  233.080002  229.250000  232.979996   \n",
       "2024-07-11 00:00:00-04:00  231.389999  232.389999  225.770004  227.570007   \n",
       "2024-07-12 00:00:00-04:00  228.919998  232.639999  228.679993  230.539993   \n",
       "\n",
       "                             Volume  Dividends  Stock Splits  \n",
       "Date                                                          \n",
       "2024-07-08 00:00:00-04:00  59085900        0.0           0.0  \n",
       "2024-07-09 00:00:00-04:00  48076100        0.0           0.0  \n",
       "2024-07-10 00:00:00-04:00  62627700        0.0           0.0  \n",
       "2024-07-11 00:00:00-04:00  64710600        0.0           0.0  \n",
       "2024-07-12 00:00:00-04:00  53008200        0.0           0.0  "
      ]
     },
     "execution_count": 49,
     "metadata": {},
     "output_type": "execute_result"
    }
   ],
   "source": [
    "apple_data.tail()"
   ]
  },
  {
   "cell_type": "markdown",
   "id": "1f8b2a8f-5c14-41e9-852e-f0ddf6a2cf95",
   "metadata": {},
   "source": [
    "We can reset the index of the DataFrame with the `reset_index` function. We also set the `inplace` paramter to `True` so the change takes place to the DataFrame itself.\r\n"
   ]
  },
  {
   "cell_type": "code",
   "execution_count": 50,
   "id": "fa0832c4-59e9-4767-949d-47f7c3fe3dfe",
   "metadata": {},
   "outputs": [],
   "source": [
    "apple_data.reset_index(inplace=True)"
   ]
  },
  {
   "cell_type": "markdown",
   "id": "f305adf6-c405-4730-a71f-fa3bc5bb0bce",
   "metadata": {},
   "source": [
    "Here I can plot the `Open` price against the `Date`:\r\n"
   ]
  },
  {
   "cell_type": "code",
   "execution_count": 51,
   "id": "d3756142-3493-4a75-85de-560cf7f89726",
   "metadata": {},
   "outputs": [
    {
     "data": {
      "text/plain": [
       "<Axes: xlabel='Date'>"
      ]
     },
     "execution_count": 51,
     "metadata": {},
     "output_type": "execute_result"
    },
    {
     "data": {
      "image/png": "[encoded data removed]",
      "text/plain": [
       "<Figure size 640x480 with 1 Axes>"
      ]
     },
     "metadata": {},
     "output_type": "display_data"
    }
   ],
   "source": [
    "apple_data.plot(x=\"Date\", y=\"Open\")"
   ]
  },
  {
   "cell_type": "markdown",
   "id": "4858ac3e-1cee-49b3-85b2-e8f8e8571403",
   "metadata": {},
   "source": [
    "## Download Multiple Ticker"
   ]
  },
  {
   "cell_type": "markdown",
   "id": "69a068d0-db03-4ff9-a95a-b386d43f2028",
   "metadata": {},
   "source": [
    "Here we download the data of Google & Meta using multiple tickers\n"
   ]
  },
  {
   "cell_type": "code",
   "execution_count": 52,
   "id": "4fe98dbe-4083-4cdc-acf3-920319ca30c4",
   "metadata": {},
   "outputs": [
    {
     "name": "stdout",
     "output_type": "stream",
     "text": [
      "[*********************100%***********************]  2 of 2 completed\n"
     ]
    },
    {
     "data": {
      "text/html": [
       "<div>\n",
       "<style scoped>\n",
       "    .dataframe tbody tr th:only-of-type {\n",
       "        vertical-align: middle;\n",
       "    }\n",
       "\n",
       "    .dataframe tbody tr th {\n",
       "        vertical-align: top;\n",
       "    }\n",
       "\n",
       "    .dataframe thead tr th {\n",
       "        text-align: left;\n",
       "    }\n",
       "\n",
       "    .dataframe thead tr:last-of-type th {\n",
       "        text-align: right;\n",
       "    }\n",
       "</style>\n",
       "<table border=\"1\" class=\"dataframe\">\n",
       "  <thead>\n",
       "    <tr>\n",
       "      <th></th>\n",
       "      <th colspan=\"2\" halign=\"left\">Adj Close</th>\n",
       "      <th colspan=\"2\" halign=\"left\">Close</th>\n",
       "      <th colspan=\"2\" halign=\"left\">High</th>\n",
       "      <th colspan=\"2\" halign=\"left\">Low</th>\n",
       "      <th colspan=\"2\" halign=\"left\">Open</th>\n",
       "      <th colspan=\"2\" halign=\"left\">Volume</th>\n",
       "    </tr>\n",
       "    <tr>\n",
       "      <th></th>\n",
       "      <th>GOOG</th>\n",
       "      <th>META</th>\n",
       "      <th>GOOG</th>\n",
       "      <th>META</th>\n",
       "      <th>GOOG</th>\n",
       "      <th>META</th>\n",
       "      <th>GOOG</th>\n",
       "      <th>META</th>\n",
       "      <th>GOOG</th>\n",
       "      <th>META</th>\n",
       "      <th>GOOG</th>\n",
       "      <th>META</th>\n",
       "    </tr>\n",
       "    <tr>\n",
       "      <th>Date</th>\n",
       "      <th></th>\n",
       "      <th></th>\n",
       "      <th></th>\n",
       "      <th></th>\n",
       "      <th></th>\n",
       "      <th></th>\n",
       "      <th></th>\n",
       "      <th></th>\n",
       "      <th></th>\n",
       "      <th></th>\n",
       "      <th></th>\n",
       "      <th></th>\n",
       "    </tr>\n",
       "  </thead>\n",
       "  <tbody>\n",
       "    <tr>\n",
       "      <th>2024-06-13 00:00:00-04:00</th>\n",
       "      <td>176.740005</td>\n",
       "      <td>503.600006</td>\n",
       "      <td>176.740005</td>\n",
       "      <td>504.100006</td>\n",
       "      <td>178.509995</td>\n",
       "      <td>509.359985</td>\n",
       "      <td>176.660004</td>\n",
       "      <td>501.359985</td>\n",
       "      <td>177.839996</td>\n",
       "      <td>505.709991</td>\n",
       "      <td>15956900</td>\n",
       "      <td>9954600</td>\n",
       "    </tr>\n",
       "    <tr>\n",
       "      <th>2024-06-14 00:00:00-04:00</th>\n",
       "      <td>178.369995</td>\n",
       "      <td>504.160004</td>\n",
       "      <td>178.369995</td>\n",
       "      <td>504.160004</td>\n",
       "      <td>178.729996</td>\n",
       "      <td>507.149994</td>\n",
       "      <td>175.852005</td>\n",
       "      <td>500.750000</td>\n",
       "      <td>175.852005</td>\n",
       "      <td>502.649994</td>\n",
       "      <td>12361600</td>\n",
       "      <td>10243300</td>\n",
       "    </tr>\n",
       "    <tr>\n",
       "      <th>2024-06-17 00:00:00-04:00</th>\n",
       "      <td>178.779999</td>\n",
       "      <td>506.630005</td>\n",
       "      <td>178.779999</td>\n",
       "      <td>506.630005</td>\n",
       "      <td>179.919998</td>\n",
       "      <td>510.750000</td>\n",
       "      <td>176.490005</td>\n",
       "      <td>496.010010</td>\n",
       "      <td>176.979996</td>\n",
       "      <td>501.670013</td>\n",
       "      <td>15272900</td>\n",
       "      <td>11266600</td>\n",
       "    </tr>\n",
       "    <tr>\n",
       "      <th>2024-06-18 00:00:00-04:00</th>\n",
       "      <td>176.449997</td>\n",
       "      <td>499.489990</td>\n",
       "      <td>176.449997</td>\n",
       "      <td>499.489990</td>\n",
       "      <td>178.910004</td>\n",
       "      <td>506.000000</td>\n",
       "      <td>175.619995</td>\n",
       "      <td>495.019989</td>\n",
       "      <td>178.789993</td>\n",
       "      <td>504.559998</td>\n",
       "      <td>15640300</td>\n",
       "      <td>13060400</td>\n",
       "    </tr>\n",
       "    <tr>\n",
       "      <th>2024-06-20 00:00:00-04:00</th>\n",
       "      <td>177.710007</td>\n",
       "      <td>501.700012</td>\n",
       "      <td>177.710007</td>\n",
       "      <td>501.700012</td>\n",
       "      <td>178.740005</td>\n",
       "      <td>503.670013</td>\n",
       "      <td>176.460007</td>\n",
       "      <td>496.769989</td>\n",
       "      <td>176.710007</td>\n",
       "      <td>502.000000</td>\n",
       "      <td>16753200</td>\n",
       "      <td>11801200</td>\n",
       "    </tr>\n",
       "  </tbody>\n",
       "</table>\n",
       "</div>"
      ],
      "text/plain": [
       "                            Adj Close                   Close              \\\n",
       "                                 GOOG        META        GOOG        META   \n",
       "Date                                                                        \n",
       "2024-06-13 00:00:00-04:00  176.740005  503.600006  176.740005  504.100006   \n",
       "2024-06-14 00:00:00-04:00  178.369995  504.160004  178.369995  504.160004   \n",
       "2024-06-17 00:00:00-04:00  178.779999  506.630005  178.779999  506.630005   \n",
       "2024-06-18 00:00:00-04:00  176.449997  499.489990  176.449997  499.489990   \n",
       "2024-06-20 00:00:00-04:00  177.710007  501.700012  177.710007  501.700012   \n",
       "\n",
       "                                 High                     Low              \\\n",
       "                                 GOOG        META        GOOG        META   \n",
       "Date                                                                        \n",
       "2024-06-13 00:00:00-04:00  178.509995  509.359985  176.660004  501.359985   \n",
       "2024-06-14 00:00:00-04:00  178.729996  507.149994  175.852005  500.750000   \n",
       "2024-06-17 00:00:00-04:00  179.919998  510.750000  176.490005  496.010010   \n",
       "2024-06-18 00:00:00-04:00  178.910004  506.000000  175.619995  495.019989   \n",
       "2024-06-20 00:00:00-04:00  178.740005  503.670013  176.460007  496.769989   \n",
       "\n",
       "                                 Open                Volume            \n",
       "                                 GOOG        META      GOOG      META  \n",
       "Date                                                                   \n",
       "2024-06-13 00:00:00-04:00  177.839996  505.709991  15956900   9954600  \n",
       "2024-06-14 00:00:00-04:00  175.852005  502.649994  12361600  10243300  \n",
       "2024-06-17 00:00:00-04:00  176.979996  501.670013  15272900  11266600  \n",
       "2024-06-18 00:00:00-04:00  178.789993  504.559998  15640300  13060400  \n",
       "2024-06-20 00:00:00-04:00  176.710007  502.000000  16753200  11801200  "
      ]
     },
     "execution_count": 52,
     "metadata": {},
     "output_type": "execute_result"
    }
   ],
   "source": [
    "Data = yf.download([\"GOOG\", \"META\"], period=\"1mo\")\n",
    "Data.head()"
   ]
  },
  {
   "cell_type": "code",
   "execution_count": 53,
   "id": "616ea17e-d27f-4c74-ae1f-12d29fbaa705",
   "metadata": {},
   "outputs": [],
   "source": [
    "Data.reset_index(inplace=True)"
   ]
  },
  {
   "cell_type": "code",
   "execution_count": 54,
   "id": "aecc95db-7f52-4c28-ad39-937cee36406b",
   "metadata": {},
   "outputs": [
    {
     "data": {
      "text/plain": [
       "<Axes: xlabel='Date'>"
      ]
     },
     "execution_count": 54,
     "metadata": {},
     "output_type": "execute_result"
    },
    {
     "data": {
      "image/png": "[encoded data removed]",
      "text/plain": [
       "<Figure size 640x480 with 1 Axes>"
      ]
     },
     "metadata": {},
     "output_type": "display_data"
    }
   ],
   "source": [
    "Data.plot(x=\"Date\", y=\"High\")"
   ]
  },
  {
   "cell_type": "code",
   "execution_count": 57,
   "id": "b67f8a6b-c876-493e-ad35-be4af51a0e8c",
   "metadata": {},
   "outputs": [
    {
     "name": "stderr",
     "output_type": "stream",
     "text": [
      "C:\\Users\\prath\\anaconda3\\Lib\\site-packages\\yfinance\\scrapers\\holders.py:38: FutureWarning: Passing literal html to 'read_html' is deprecated and will be removed in a future version. To read from a literal string, wrap it in a 'StringIO' object.\n",
      "  holders = pd.read_html(resp.text)\n"
     ]
    },
    {
     "data": {
      "text/html": [
       "<div>\n",
       "<style scoped>\n",
       "    .dataframe tbody tr th:only-of-type {\n",
       "        vertical-align: middle;\n",
       "    }\n",
       "\n",
       "    .dataframe tbody tr th {\n",
       "        vertical-align: top;\n",
       "    }\n",
       "\n",
       "    .dataframe thead th {\n",
       "        text-align: right;\n",
       "    }\n",
       "</style>\n",
       "<table border=\"1\" class=\"dataframe\">\n",
       "  <thead>\n",
       "    <tr style=\"text-align: right;\">\n",
       "      <th></th>\n",
       "      <th>Holder</th>\n",
       "      <th>Shares</th>\n",
       "      <th>Date Reported</th>\n",
       "      <th>% Out</th>\n",
       "      <th>Value</th>\n",
       "    </tr>\n",
       "  </thead>\n",
       "  <tbody>\n",
       "    <tr>\n",
       "      <th>0</th>\n",
       "      <td>Vanguard Group Inc</td>\n",
       "      <td>1.32B</td>\n",
       "      <td>2024-03-31</td>\n",
       "      <td>0.0860</td>\n",
       "      <td>304049886556</td>\n",
       "    </tr>\n",
       "    <tr>\n",
       "      <th>1</th>\n",
       "      <td>Blackrock Inc.</td>\n",
       "      <td>1.04B</td>\n",
       "      <td>2024-03-31</td>\n",
       "      <td>0.0679</td>\n",
       "      <td>239882259033</td>\n",
       "    </tr>\n",
       "    <tr>\n",
       "      <th>2</th>\n",
       "      <td>Berkshire Hathaway, Inc</td>\n",
       "      <td>789.37M</td>\n",
       "      <td>2024-03-31</td>\n",
       "      <td>0.0515</td>\n",
       "      <td>181980997163</td>\n",
       "    </tr>\n",
       "    <tr>\n",
       "      <th>3</th>\n",
       "      <td>State Street Corporation</td>\n",
       "      <td>588.59M</td>\n",
       "      <td>2024-03-31</td>\n",
       "      <td>0.0384</td>\n",
       "      <td>135693714238</td>\n",
       "    </tr>\n",
       "    <tr>\n",
       "      <th>4</th>\n",
       "      <td>Geode Capital Management, LLC</td>\n",
       "      <td>307.72M</td>\n",
       "      <td>2024-03-31</td>\n",
       "      <td>0.0201</td>\n",
       "      <td>70941963154</td>\n",
       "    </tr>\n",
       "    <tr>\n",
       "      <th>5</th>\n",
       "      <td>FMR, LLC</td>\n",
       "      <td>288.98M</td>\n",
       "      <td>2024-03-31</td>\n",
       "      <td>0.0188</td>\n",
       "      <td>66621313085</td>\n",
       "    </tr>\n",
       "    <tr>\n",
       "      <th>6</th>\n",
       "      <td>Morgan Stanley</td>\n",
       "      <td>221.96M</td>\n",
       "      <td>2024-03-31</td>\n",
       "      <td>0.0145</td>\n",
       "      <td>51170486771</td>\n",
       "    </tr>\n",
       "    <tr>\n",
       "      <th>7</th>\n",
       "      <td>Price (T.Rowe) Associates Inc</td>\n",
       "      <td>206.97M</td>\n",
       "      <td>2024-03-31</td>\n",
       "      <td>0.0135</td>\n",
       "      <td>47715274154</td>\n",
       "    </tr>\n",
       "    <tr>\n",
       "      <th>8</th>\n",
       "      <td>Norges Bank Investment Management</td>\n",
       "      <td>176.14M</td>\n",
       "      <td>2023-12-31</td>\n",
       "      <td>0.0115</td>\n",
       "      <td>40607591757</td>\n",
       "    </tr>\n",
       "    <tr>\n",
       "      <th>9</th>\n",
       "      <td>JP Morgan Chase &amp; Company</td>\n",
       "      <td>156.06M</td>\n",
       "      <td>2024-03-31</td>\n",
       "      <td>0.0102</td>\n",
       "      <td>35977775569</td>\n",
       "    </tr>\n",
       "  </tbody>\n",
       "</table>\n",
       "</div>"
      ],
      "text/plain": [
       "                              Holder   Shares Date Reported   % Out  \\\n",
       "0                 Vanguard Group Inc    1.32B    2024-03-31  0.0860   \n",
       "1                     Blackrock Inc.    1.04B    2024-03-31  0.0679   \n",
       "2            Berkshire Hathaway, Inc  789.37M    2024-03-31  0.0515   \n",
       "3           State Street Corporation  588.59M    2024-03-31  0.0384   \n",
       "4      Geode Capital Management, LLC  307.72M    2024-03-31  0.0201   \n",
       "5                           FMR, LLC  288.98M    2024-03-31  0.0188   \n",
       "6                     Morgan Stanley  221.96M    2024-03-31  0.0145   \n",
       "7      Price (T.Rowe) Associates Inc  206.97M    2024-03-31  0.0135   \n",
       "8  Norges Bank Investment Management  176.14M    2023-12-31  0.0115   \n",
       "9          JP Morgan Chase & Company  156.06M    2024-03-31  0.0102   \n",
       "\n",
       "          Value  \n",
       "0  304049886556  \n",
       "1  239882259033  \n",
       "2  181980997163  \n",
       "3  135693714238  \n",
       "4   70941963154  \n",
       "5   66621313085  \n",
       "6   51170486771  \n",
       "7   47715274154  \n",
       "8   40607591757  \n",
       "9   35977775569  "
      ]
     },
     "execution_count": 57,
     "metadata": {},
     "output_type": "execute_result"
    }
   ],
   "source": [
    "apple.institutional_holders"
   ]
  },
  {
   "cell_type": "markdown",
   "id": "1b0e0836-7643-4e8a-ace0-2d1f6c28c871",
   "metadata": {},
   "source": [
    "\n",
    "\n",
    "## <b>Conclusion </b>\n",
    "\n",
    "<p>In this project, we performed a basic analysis of Apple Inc.'s stock using the <b>yfinance</b> library in Python. We demonstrated how to:</p>\n",
    "\n",
    "<p><b>Fetch Stock Data:</b> Use yfinance to easily retrieve historical stock data for any company.</p>\n",
    "<p><b>Analyze Historical Data:</b> Gain insights into stock performance over time using simple Python operations.</p>\n",
    "\n",
    "This project shows how yfinance can streamline financial data analysis, making it accessible for data-driven decision-making and deeper financial insights."
   ]
  },
  {
   "cell_type": "code",
   "execution_count": null,
   "id": "00413f64-ab71-4729-bd33-231b48a61453",
   "metadata": {},
   "outputs": [],
   "source": []
  }
 ],
 "metadata": {
  "kernelspec": {
   "display_name": "Python 3 (ipykernel)",
   "language": "python",
   "name": "python3"
  },
  "language_info": {
   "codemirror_mode": {
    "name": "ipython",
    "version": 3
   },
   "file_extension": ".py",
   "mimetype": "text/x-python",
   "name": "python",
   "nbconvert_exporter": "python",
   "pygments_lexer": "ipython3",
   "version": "3.11.7"
  }
 },
 "nbformat": 4,
 "nbformat_minor": 5
}
